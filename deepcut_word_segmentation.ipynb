{
 "cells": [
  {
   "cell_type": "code",
   "execution_count": 1,
   "metadata": {},
   "outputs": [
    {
     "name": "stderr",
     "output_type": "stream",
     "text": [
      "Using TensorFlow backend.\n",
      "C:\\Users\\Admin\\Anaconda3\\envs\\text-processing\\lib\\site-packages\\tensorflow\\python\\framework\\dtypes.py:526: FutureWarning: Passing (type, 1) or '1type' as a synonym of type is deprecated; in a future version of numpy, it will be understood as (type, (1,)) / '(1,)type'.\n",
      "  _np_qint8 = np.dtype([(\"qint8\", np.int8, 1)])\n",
      "C:\\Users\\Admin\\Anaconda3\\envs\\text-processing\\lib\\site-packages\\tensorflow\\python\\framework\\dtypes.py:527: FutureWarning: Passing (type, 1) or '1type' as a synonym of type is deprecated; in a future version of numpy, it will be understood as (type, (1,)) / '(1,)type'.\n",
      "  _np_quint8 = np.dtype([(\"quint8\", np.uint8, 1)])\n",
      "C:\\Users\\Admin\\Anaconda3\\envs\\text-processing\\lib\\site-packages\\tensorflow\\python\\framework\\dtypes.py:528: FutureWarning: Passing (type, 1) or '1type' as a synonym of type is deprecated; in a future version of numpy, it will be understood as (type, (1,)) / '(1,)type'.\n",
      "  _np_qint16 = np.dtype([(\"qint16\", np.int16, 1)])\n",
      "C:\\Users\\Admin\\Anaconda3\\envs\\text-processing\\lib\\site-packages\\tensorflow\\python\\framework\\dtypes.py:529: FutureWarning: Passing (type, 1) or '1type' as a synonym of type is deprecated; in a future version of numpy, it will be understood as (type, (1,)) / '(1,)type'.\n",
      "  _np_quint16 = np.dtype([(\"quint16\", np.uint16, 1)])\n",
      "C:\\Users\\Admin\\Anaconda3\\envs\\text-processing\\lib\\site-packages\\tensorflow\\python\\framework\\dtypes.py:530: FutureWarning: Passing (type, 1) or '1type' as a synonym of type is deprecated; in a future version of numpy, it will be understood as (type, (1,)) / '(1,)type'.\n",
      "  _np_qint32 = np.dtype([(\"qint32\", np.int32, 1)])\n",
      "C:\\Users\\Admin\\Anaconda3\\envs\\text-processing\\lib\\site-packages\\tensorflow\\python\\framework\\dtypes.py:535: FutureWarning: Passing (type, 1) or '1type' as a synonym of type is deprecated; in a future version of numpy, it will be understood as (type, (1,)) / '(1,)type'.\n",
      "  np_resource = np.dtype([(\"resource\", np.ubyte, 1)])\n"
     ]
    },
    {
     "name": "stdout",
     "output_type": "stream",
     "text": [
      "WARNING:tensorflow:From C:\\Users\\Admin\\Anaconda3\\envs\\text-processing\\lib\\site-packages\\tensorflow\\python\\ops\\resource_variable_ops.py:435: colocate_with (from tensorflow.python.framework.ops) is deprecated and will be removed in a future version.\n",
      "Instructions for updating:\n",
      "Colocations handled automatically by placer.\n",
      "['ตัด', 'คำ', 'ได้', 'ดี', 'มาก']\n"
     ]
    }
   ],
   "source": [
    "import deepcut\n",
    "print(deepcut.tokenize('ตัดคำได้ดีมาก'))"
   ]
  },
  {
   "cell_type": "code",
   "execution_count": 3,
   "metadata": {},
   "outputs": [],
   "source": [
    "import os\n",
    "import regex as re\n",
    "os.chdir('E:\\\\min\\\\Tokyo_tech_exchange\\\\NER\\\\data')"
   ]
  },
  {
   "cell_type": "code",
   "execution_count": 5,
   "metadata": {},
   "outputs": [
    {
     "name": "stdout",
     "output_type": "stream",
     "text": [
      "mea\n",
      "now reach: 0.16666666666666666\n",
      "org\n",
      "now reach: 0.3333333333333333\n",
      "dat\n",
      "now reach: 0.5\n",
      "loc\n",
      "now reach: 0.6666666666666666\n",
      "per\n",
      "now reach: 0.8333333333333334\n",
      "oth\n",
      "now reach: 1.0\n"
     ]
    }
   ],
   "source": [
    "all_types = ['mea', 'org', 'dat', 'loc', 'per', 'oth']\n",
    "all_word_cnt = []\n",
    "all_article_cnt = []\n",
    "all_max_len = []\n",
    "all_min_len = []\n",
    "for cur_type in all_types:\n",
    "    print(cur_type)\n",
    "    print(f'now reach: {(all_types.index(cur_type)+1)/len(all_types)}')\n",
    "    cnt_sentence = 0\n",
    "    cnt_word = 0\n",
    "    max_len = 0\n",
    "    min_len = 1000000000000\n",
    "    with open(cur_type+'.txt', 'r', encoding='utf8') as f:\n",
    "        with open('.\\\\deepcut_data\\\\'+ cur_type + '_deepcut.txt', 'a', encoding = 'utf8') as f_out:\n",
    "            with open('.\\\\deepcut_data\\\\'+ cur_type + '_label_deepcut.txt', 'a', encoding = 'utf8') as f_out_label:\n",
    "                for ind, line in enumerate(f):\n",
    "                    if ind%2==0:\n",
    "                        cnt_sentence = cnt_sentence + 1\n",
    "                        sentences = [i.strip() for i in line.split('||')]\n",
    "                        label = []\n",
    "                        all_words = []\n",
    "                        for sen_ind, sentence in enumerate(sentences):\n",
    "                            if sentence == '':\n",
    "                                words = []\n",
    "                            else:\n",
    "                                words = [word for word in deepcut.tokenize(re.sub(r'[^ก-๙A-Za-z0-9.-/%:|]','  ',sentence)) if word.strip() != '']\n",
    "                            cnt_word = cnt_word + len(words)\n",
    "                            if sen_ind % 2:\n",
    "                                label = label + ['1']*len(words)\n",
    "                            else:\n",
    "                                label = label + ['0']*len(words)\n",
    "                            all_words = all_words + words\n",
    "                        if len(all_words) != len(label):\n",
    "                            print(ind)\n",
    "                            print(all_words)\n",
    "                            print(label)\n",
    "                            print(len(all_words))\n",
    "                            print(len(label))\n",
    "                            break\n",
    "                        max_len = max(max_len,len(all_words))\n",
    "                        min_len = min(min_len,len(all_words))\n",
    "                        f_out.write('||'.join(all_words))\n",
    "                        f_out.write('\\n')\n",
    "                        f_out_label.write('||'.join(label))\n",
    "                        f_out_label.write('\\n')\n",
    "    all_word_cnt.append(cnt_word)\n",
    "    all_article_cnt.append(cnt_sentence)\n",
    "    all_max_len.append(max_len)\n",
    "    all_min_len.append(min_len)\n",
    "    \n",
    "all_word_cnt = [str(i) for i in all_word_cnt]\n",
    "all_article_cnt = [str(i) for i in all_article_cnt]\n",
    "all_max_len = [str(i) for i in all_max_len]\n",
    "all_min_len = [str(i) for i in all_min_len]\n",
    "\n",
    "with open('.\\\\deepcut_data\\\\report_deepcut.txt', 'w') as f:\n",
    "    f.write('all_type: ' + ','.join(all_types) + '\\n')\n",
    "    f.write('word_cnt: '+ ','.join(all_word_cnt) + '\\n')\n",
    "    f.write('article_cnt: '+ ','.join(all_article_cnt) + '\\n')\n",
    "    f.write('max_cnt: '+ ','.join(all_max_len) + '\\n')\n",
    "    f.write('min_cnt: '+ ','.join(all_min_len))\n",
    "    \n",
    "    "
   ]
  },
  {
   "cell_type": "code",
   "execution_count": null,
   "metadata": {},
   "outputs": [],
   "source": []
  }
 ],
 "metadata": {
  "kernelspec": {
   "display_name": "text-processing",
   "language": "python",
   "name": "text-processing"
  },
  "language_info": {
   "codemirror_mode": {
    "name": "ipython",
    "version": 3
   },
   "file_extension": ".py",
   "mimetype": "text/x-python",
   "name": "python",
   "nbconvert_exporter": "python",
   "pygments_lexer": "ipython3",
   "version": "3.6.9"
  }
 },
 "nbformat": 4,
 "nbformat_minor": 2
}
